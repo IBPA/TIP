{
 "cells": [
  {
   "cell_type": "code",
   "execution_count": 1,
   "metadata": {
    "scrolled": false
   },
   "outputs": [
    {
     "name": "stdout",
     "output_type": "stream",
     "text": [
      "usage: tip-cli [-h] [--input [INPUT]] [--output [OUTPUT]]\r\n",
      "               [--table {assay,compound}] [--id ID]\r\n",
      "               [--values [VALUES [VALUES ...]]] [--log-level {10,20,30,40,50}]\r\n",
      "               {gen-template,create,read,update,delete}\r\n",
      "\r\n",
      "positional arguments:\r\n",
      "  {gen-template,create,read,update,delete}\r\n",
      "                        Select a type of your request.\r\n",
      "\r\n",
      "optional arguments:\r\n",
      "  -h, --help            show this help message and exit\r\n",
      "  --input [INPUT], -I [INPUT]\r\n",
      "                        The path to your input file.\r\n",
      "  --output [OUTPUT], -O [OUTPUT]\r\n",
      "                        The path to your output file.\r\n",
      "  --table {assay,compound}, -T {assay,compound}\r\n",
      "                        Select a type of tables.\r\n",
      "  --id ID, -i ID        The ID of data associated with your request.\r\n",
      "  --values [VALUES [VALUES ...]], -V [VALUES [VALUES ...]]\r\n",
      "                        The values of fields of data associated with your request:\r\n",
      "                        - Each parameter is a pair of a field and a value.\r\n",
      "                        - A field and a value are separated by exactly a colon.\r\n",
      "                        - Each parameter is separated by exactly a comma.\r\n",
      "                        - Use quotes for strings containing whitespace(s), (e.g., comments.)\r\n",
      "                        - Use semicolon/s for strings containing multiple values,\r\n",
      "                            (e.g., pmid.)\r\n",
      "                        - Example:\r\n",
      "                            tip-cli update --table compound --values comment:You can spill it.\r\n",
      "  --log-level {10,20,30,40,50}, -L {10,20,30,40,50}\r\n",
      "                        The specified log level:\r\n",
      "                        - 50: CRITICAL\r\n",
      "                        - 40: ERROR\r\n",
      "                        - 30: WARNING\r\n",
      "                        - 20: INFO\r\n",
      "                        - 10: DEBUG\r\n"
     ]
    }
   ],
   "source": [
    "# TIP Command-line Interface Example\n",
    "\n",
    "# This document demonstrates how to use CLI to perform CRUD functionality of\n",
    "# TIP.\n",
    "\n",
    "# Note: This demonstration does not include user authurization/authentication,\n",
    "#   which is under an active development.\n",
    "\n",
    "! tip-cli -h"
   ]
  },
  {
   "cell_type": "code",
   "execution_count": 7,
   "metadata": {},
   "outputs": [
    {
     "name": "stdout",
     "output_type": "stream",
     "text": [
      "2020-09-17 17:53:43,223 INFO main.py: Generating data template file template.csv ...\n",
      "2020-09-17 17:53:43,395 INFO main.py: Generated successfully!\n"
     ]
    }
   ],
   "source": [
    "# Data template generation.\n",
    "\n",
    "# Use this command to download the most recent data template. By default, the\n",
    "# template is generated in the current folder and named `template.csv`. Use\n",
    "# `--outfile`` to customize your template name.\n",
    "\n",
    "! tip-cli gen-template"
   ]
  },
  {
   "cell_type": "code",
   "execution_count": 16,
   "metadata": {},
   "outputs": [
    {
     "name": "stdout",
     "output_type": "stream",
     "text": [
      "2020-09-17 18:28:45,427 DEBUG connectionpool.py: Starting new HTTP connection (1): 3.137.114.158:80\n",
      "2020-09-17 18:28:45,603 DEBUG connectionpool.py: http://3.137.114.158:80 \"GET /database/header HTTP/1.1\" 200 170\n",
      "2020-09-17 18:28:45,605 DEBUG crud.py: Compound header: cid cas common_names iupac_name inchikey smiles mw comment; Assay header: protein gene ahr_type species conc_substrate conc_tested inhibition ec50 pmid comment2\n",
      "2020-09-17 18:28:45,606 INFO crud.py: Requesting to create data...\n",
      "2020-09-17 18:28:45,606 INFO convert_csv_to_json.py: Converting uploaded CSV file into JSON data format...\n",
      "2020-09-17 18:28:45,655 DEBUG connectionpool.py: Starting new HTTP connection (1): 3.137.114.158:80\n",
      "2020-09-17 18:28:46,561 DEBUG connectionpool.py: http://3.137.114.158:80 \"POST /compound HTTP/1.1\" 200 18\n",
      "2020-09-17 18:28:46,564 DEBUG crud.py: Status: 200, Added 2 documents.\n"
     ]
    }
   ],
   "source": [
    "# Data creation.\n",
    "\n",
    "# Use this command to upload data to the database. The command requires the\n",
    "# path to the uploading data file. It returns the number of added documents if\n",
    "# it is successful.\n",
    "\n",
    "! tip-cli create --input ./test.csv"
   ]
  },
  {
   "cell_type": "code",
   "execution_count": 21,
   "metadata": {},
   "outputs": [
    {
     "name": "stdout",
     "output_type": "stream",
     "text": [
      "2020-09-17 18:47:19,513 INFO main.py: Dumping read data to output.csv ...\n",
      "2020-09-17 18:47:19,513 INFO crud.py: Requesting to read data...\n",
      "2020-09-17 18:47:19,513 DEBUG crud.py: Table: compound, values: cid:962\n",
      "2020-09-17 18:47:19,513 DEBUG crud.py: Requested values: cid=962\n",
      "2020-09-17 18:47:19,514 DEBUG connectionpool.py: Starting new HTTP connection (1): 3.137.114.158:80\n",
      "2020-09-17 18:47:19,740 DEBUG connectionpool.py: http://3.137.114.158:80 \"GET /compound?cid=962 HTTP/1.1\" 200 207\n",
      "2020-09-17 18:47:19,742 DEBUG crud.py: Status: 200, [{\"common_names\":[\"Ice\",\"Dihydrogen oxide\"],\"_id\":1,\"cid\":962,\"cas\":\"7732-18-5\",\"iupac_name\":\"Oxidine\",\"inchikey\":\"XLYOFNOQVPJJNP-UHFFFAOYSA-N\",\"smiles\":\"O\",\"mw\":18.02,\"comment\":\"You can spill it.\",\"__v\":0}]\n",
      "[{\"common_names\":[\"Ice\",\"Dihydrogen oxide\"],\"_id\":1,\"cid\":962,\"cas\":\"7732-18-5\",\"iupac_name\":\"Oxidine\",\"inchikey\":\"XLYOFNOQVPJJNP-UHFFFAOYSA-N\",\"smiles\":\"O\",\"mw\":18.02,\"comment\":\"You can spill it.\",\"__v\":0}]\n"
     ]
    }
   ],
   "source": [
    "# Data reading.\n",
    "\n",
    "# Use this command to read the data on the database given fields and values. It\n",
    "# will generate a file containing returned data if it is successful.\n",
    "\n",
    "# Note: Currently it is case-sensitive.\n",
    "\n",
    "! tip-cli read --table compound --values cid:962  # PubChem CID 962 is Water."
   ]
  },
  {
   "cell_type": "code",
   "execution_count": 18,
   "metadata": {},
   "outputs": [
    {
     "name": "stdout",
     "output_type": "stream",
     "text": [
      "2020-09-17 18:31:16,541 INFO crud.py: Requesting to update data...\n",
      "2020-09-17 18:31:16,541 DEBUG crud.py: Table: compound, values: comment:You can spill it.,common_names:Ice;Dihydrogen oxide\n",
      "2020-09-17 18:31:16,543 DEBUG connectionpool.py: Starting new HTTP connection (1): 3.137.114.158:80\n",
      "2020-09-17 18:31:16,863 DEBUG connectionpool.py: http://3.137.114.158:80 \"PUT /compound/1 HTTP/1.1\" 200 205\n",
      "2020-09-17 18:31:16,863 DEBUG crud.py: Status: 200, {\"common_names\":[\"Ice\",\"Dihydrogen oxide\"],\"_id\":1,\"cid\":962,\"cas\":\"7732-18-5\",\"iupac_name\":\"Oxidine\",\"inchikey\":\"XLYOFNOQVPJJNP-UHFFFAOYSA-N\",\"smiles\":\"O\",\"mw\":18.02,\"comment\":\"You can spill it.\",\"__v\":0}\n"
     ]
    }
   ],
   "source": [
    "# Data updating.\n",
    "\n",
    "# Use this command to update specific fields of the data in the database. The\n",
    "# user needs to provide a table name, an Id, and new values of fields. It\n",
    "# returns the updated document if it is successful. Change the value of ID if\n",
    "# the following ID does not exist.\n",
    "\n",
    "! tip-cli update --table compound --id 1 --values comment:\"You can spill it.\",\\\n",
    "common_names:\"Ice;Dihydrogen oxide\"  # Updating 'comment' of TID 1 compound."
   ]
  },
  {
   "cell_type": "code",
   "execution_count": 20,
   "metadata": {},
   "outputs": [
    {
     "name": "stdout",
     "output_type": "stream",
     "text": [
      "2020-09-17 18:41:51,412 INFO crud.py: Requesting to delete data...\n",
      "2020-09-17 18:41:51,412 DEBUG crud.py: Table: assay\n",
      "2020-09-17 18:41:51,414 DEBUG connectionpool.py: Starting new HTTP connection (1): 3.137.114.158:80\n",
      "2020-09-17 18:41:52,020 DEBUG connectionpool.py: http://3.137.114.158:80 \"DELETE /assay/5 HTTP/1.1\" 200 105\n",
      "2020-09-17 18:41:52,021 DEBUG crud.py: Status: 200, {\"pmid\":[12345690],\"_id\":5,\"ahr_type\":\"GE\",\"compound\":2,\"upload_date\":\"2020-09-18T01:28:46.411Z\",\"__v\":0}\n"
     ]
    }
   ],
   "source": [
    "# Data deletion.\n",
    "\n",
    "# Use this command to delete data that are already created by specifying the\n",
    "# table name and the ID of the data. It returns the deleted document if it is\n",
    "# successful. Change the value of ID if the following ID does not exist.\n",
    "\n",
    "! tip-cli delete --table assay --id 5 # Deleting compound with ID of 1."
   ]
  },
  {
   "cell_type": "code",
   "execution_count": null,
   "metadata": {},
   "outputs": [],
   "source": []
  }
 ],
 "metadata": {
  "kernelspec": {
   "display_name": "Python 3",
   "language": "python",
   "name": "python3"
  },
  "language_info": {
   "codemirror_mode": {
    "name": "ipython",
    "version": 3
   },
   "file_extension": ".py",
   "mimetype": "text/x-python",
   "name": "python",
   "nbconvert_exporter": "python",
   "pygments_lexer": "ipython3",
   "version": "3.6.10"
  }
 },
 "nbformat": 4,
 "nbformat_minor": 4
}
