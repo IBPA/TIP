{
 "cells": [
  {
   "cell_type": "code",
   "execution_count": 2,
   "metadata": {
    "scrolled": false
   },
   "outputs": [
    {
     "name": "stdout",
     "output_type": "stream",
     "text": [
      "usage: tip-cli [-h] [--infile [INFILE]] [--outfile [OUTFILE]] [--tid [TID]]\r\n",
      "               [--values [VALUES [VALUES ...]]] [--log-level {10,20,30,40,50}]\r\n",
      "               {gen-template,create,read,update,delete}\r\n",
      "\r\n",
      "positional arguments:\r\n",
      "  {gen-template,create,read,update,delete}\r\n",
      "                        Select a type of your request.\r\n",
      "\r\n",
      "optional arguments:\r\n",
      "  -h, --help            show this help message and exit\r\n",
      "  --infile [INFILE], -I [INFILE]\r\n",
      "                        The path to your input file.\r\n",
      "  --outfile [OUTFILE], -O [OUTFILE]\r\n",
      "                        The path to your output file.\r\n",
      "  --tid [TID], -T [TID]\r\n",
      "                        The TIP ID (TID) associated with your request.\r\n",
      "  --values [VALUES [VALUES ...]], -V [VALUES [VALUES ...]]\r\n",
      "                        The values of fields of data associated with your request:\r\n",
      "                        - Each parameter is a pair of a field and a value.\r\n",
      "                        - A field and a value are separated by exactly a colon.\r\n",
      "                        - The first parameter must be 'type:compound' or 'type:assay',\r\n",
      "                            indicating the data type you are updating.\r\n",
      "                        - Each parameter is separated by exactly a comma.\r\n",
      "                        - Use quotes for strings containing whitespace(s), (e.g., comments.)\r\n",
      "                        - Use semicolon/s for strings containing multiple values,\r\n",
      "                            (e.g., pmid.)\r\n",
      "  --log-level {10,20,30,40,50}, -L {10,20,30,40,50}\r\n",
      "                        The specified log level:\r\n",
      "                        - 50: CRITICAL\r\n",
      "                        - 40: ERROR\r\n",
      "                        - 30: WARNING\r\n",
      "                        - 20: INFO\r\n",
      "                        - 10: DEBUG\r\n"
     ]
    }
   ],
   "source": [
    "# TIP Command-line Interface Example\n",
    "\n",
    "# This document demonstrates how to use CLI to perform CRUD functionality of\n",
    "# TIP.\n",
    "\n",
    "# Note: This demonstration does not include user authurization/authentication,\n",
    "#   which is under an active development.\n",
    "\n",
    "! tip-cli -h"
   ]
  },
  {
   "cell_type": "code",
   "execution_count": 7,
   "metadata": {},
   "outputs": [
    {
     "name": "stdout",
     "output_type": "stream",
     "text": [
      "2020-09-17 17:53:43,223 INFO main.py: Generating data template file template.csv ...\n",
      "2020-09-17 17:53:43,395 INFO main.py: Generated successfully!\n"
     ]
    }
   ],
   "source": [
    "# Data template generation.\n",
    "\n",
    "# Use this command to download the most recent data template. By default, the\n",
    "# template is generated in the current folder and named `template.csv`. Use\n",
    "# `--outfile`` to customize your template name.\n",
    "\n",
    "! tip-cli gen-template"
   ]
  },
  {
   "cell_type": "code",
   "execution_count": 3,
   "metadata": {},
   "outputs": [
    {
     "name": "stdout",
     "output_type": "stream",
     "text": [
      "INFO:root:Requesting to create data...\n",
      "2020-09-10 16:33:52,557 INFO crud.py: Requesting to create data...\n",
      "INFO:root:Converting uploaded CSV file into JSON data format...\n",
      "2020-09-10 16:33:52,557 INFO convert_csv_to_json.py: Converting uploaded CSV file into JSON data format...\n",
      "DEBUG:urllib3.connectionpool:Starting new HTTP connection (1): 3.137.114.158:80\n",
      "2020-09-10 16:33:52,572 DEBUG connectionpool.py: Starting new HTTP connection (1): 3.137.114.158:80\n",
      "DEBUG:urllib3.connectionpool:http://3.137.114.158:80 \"POST /compound HTTP/1.1\" 200 18\n",
      "2020-09-10 16:33:53,321 DEBUG connectionpool.py: http://3.137.114.158:80 \"POST /compound HTTP/1.1\" 200 18\n",
      "DEBUG:root:Status: 200, Added 2 documents.\n",
      "2020-09-10 16:33:53,322 DEBUG crud.py: Status: 200, Added 2 documents.\n"
     ]
    }
   ],
   "source": [
    "# Data creation.\n",
    "\n",
    "# Use this command to upload data to the database. The command requires the\n",
    "# path to the uploading data file. It will return response code and error to\n",
    "# the user.\n",
    "\n",
    "! tip-cli create --infile ./test.csv"
   ]
  },
  {
   "cell_type": "code",
   "execution_count": 5,
   "metadata": {},
   "outputs": [
    {
     "name": "stdout",
     "output_type": "stream",
     "text": [
      "INFO:root:Requesting to read data...\n",
      "2020-09-10 16:36:53,171 INFO crud.py: Requesting to read data...\n",
      "DEBUG:root:Key: type, Value: compound\n",
      "2020-09-10 16:36:53,172 DEBUG crud.py: Key: type, Value: compound\n",
      "DEBUG:root:Requested query: cid=962\n",
      "2020-09-10 16:36:53,173 DEBUG crud.py: Requested query: cid=962\n",
      "DEBUG:urllib3.connectionpool:Starting new HTTP connection (1): 3.137.114.158:80\n",
      "2020-09-10 16:36:53,174 DEBUG connectionpool.py: Starting new HTTP connection (1): 3.137.114.158:80\n",
      "DEBUG:urllib3.connectionpool:http://3.137.114.158:80 \"GET /compound?cid=962 HTTP/1.1\" 200 209\n",
      "2020-09-10 16:36:53,426 DEBUG connectionpool.py: http://3.137.114.158:80 \"GET /compound?cid=962 HTTP/1.1\" 200 209\n",
      "DEBUG:root:Status: 200, [{\"common_names\":[\"Water\",\"Dihydrogen oxide\"],\"_id\":1,\"cid\":962,\"cas\":\"7732-18-5\",\"iupac_name\":\"Oxidine\",\"inchikey\":\"XLYOFNOQVPJJNP-UHFFFAOYSA-N\",\"smiles\":\"O\",\"mw\":18.02,\"comment\":\"You can drink it.\",\"__v\":0}]\n",
      "2020-09-10 16:36:53,428 DEBUG crud.py: Status: 200, [{\"common_names\":[\"Water\",\"Dihydrogen oxide\"],\"_id\":1,\"cid\":962,\"cas\":\"7732-18-5\",\"iupac_name\":\"Oxidine\",\"inchikey\":\"XLYOFNOQVPJJNP-UHFFFAOYSA-N\",\"smiles\":\"O\",\"mw\":18.02,\"comment\":\"You can drink it.\",\"__v\":0}]\n"
     ]
    }
   ],
   "source": [
    "# Data reading.\n",
    "\n",
    "# Use this command to read the data on the database given a keyword. This\n",
    "# action will not change any information on the database. Currently it is\n",
    "# case-sensitive. It will print the search result to the console and print\n",
    "# error if it fails. Use a query to specify the search filter.\n",
    "\n",
    "! tip-cli read --query type:compound,cid:962  # PubChem CID 962 is Water."
   ]
  },
  {
   "cell_type": "code",
   "execution_count": 7,
   "metadata": {},
   "outputs": [
    {
     "name": "stdout",
     "output_type": "stream",
     "text": [
      "INFO:root:Requesting to update data...\n",
      "2020-09-10 16:41:11,004 INFO crud.py: Requesting to update data...\n",
      "DEBUG:root:Key: type, Value: compound\n",
      "2020-09-10 16:41:11,005 DEBUG crud.py: Key: type, Value: compound\n",
      "DEBUG:urllib3.connectionpool:Starting new HTTP connection (1): 3.137.114.158:80\n",
      "2020-09-10 16:41:11,006 DEBUG connectionpool.py: Starting new HTTP connection (1): 3.137.114.158:80\n",
      "DEBUG:urllib3.connectionpool:http://3.137.114.158:80 \"PUT /compound/1 HTTP/1.1\" 200 207\n",
      "2020-09-10 16:41:11,341 DEBUG connectionpool.py: http://3.137.114.158:80 \"PUT /compound/1 HTTP/1.1\" 200 207\n",
      "DEBUG:root:Status: 200, {\"common_names\":[\"Water\",\"Dihydrogen oxide\"],\"_id\":1,\"cid\":962,\"cas\":\"7732-18-5\",\"iupac_name\":\"Oxidine\",\"inchikey\":\"XLYOFNOQVPJJNP-UHFFFAOYSA-N\",\"smiles\":\"O\",\"mw\":18.02,\"comment\":\"You can spill it.\",\"__v\":0}\n",
      "2020-09-10 16:41:11,342 DEBUG crud.py: Status: 200, {\"common_names\":[\"Water\",\"Dihydrogen oxide\"],\"_id\":1,\"cid\":962,\"cas\":\"7732-18-5\",\"iupac_name\":\"Oxidine\",\"inchikey\":\"XLYOFNOQVPJJNP-UHFFFAOYSA-N\",\"smiles\":\"O\",\"mw\":18.02,\"comment\":\"You can spill it.\",\"__v\":0}\n"
     ]
    }
   ],
   "source": [
    "# Data updating.\n",
    "\n",
    "# Use this command to update specific fields of the data in the database. The\n",
    "# user needs to provide the TID (TIP ID) of the data and a query which contains\n",
    "# the information of updating fields and their new values.\n",
    "\n",
    "! tip-cli update --tid 1 --query type:compound,comment:\"You can spill it.\",\\\n",
    "  common_names:\"Ice;Dihydrogen oxide\"  # Updating 'comment' of TID 1 compound."
   ]
  },
  {
   "cell_type": "code",
   "execution_count": 8,
   "metadata": {},
   "outputs": [
    {
     "name": "stdout",
     "output_type": "stream",
     "text": [
      "INFO:root:Requesting to delete data...\n",
      "2020-09-10 16:56:24,323 INFO crud.py: Requesting to delete data...\n",
      "DEBUG:urllib3.connectionpool:Starting new HTTP connection (1): 3.137.114.158:80\n",
      "2020-09-10 16:56:24,324 DEBUG connectionpool.py: Starting new HTTP connection (1): 3.137.114.158:80\n",
      "DEBUG:urllib3.connectionpool:http://3.137.114.158:80 \"DELETE /compound/1 HTTP/1.1\" 200 207\n",
      "2020-09-10 16:56:25,870 DEBUG connectionpool.py: http://3.137.114.158:80 \"DELETE /compound/1 HTTP/1.1\" 200 207\n",
      "DEBUG:root:Status: 200, {\"common_names\":[\"Water\",\"Dihydrogen oxide\"],\"_id\":1,\"cid\":962,\"cas\":\"7732-18-5\",\"iupac_name\":\"Oxidine\",\"inchikey\":\"XLYOFNOQVPJJNP-UHFFFAOYSA-N\",\"smiles\":\"O\",\"mw\":18.02,\"comment\":\"You can spill it.\",\"__v\":0}\n",
      "2020-09-10 16:56:25,873 DEBUG crud.py: Status: 200, {\"common_names\":[\"Water\",\"Dihydrogen oxide\"],\"_id\":1,\"cid\":962,\"cas\":\"7732-18-5\",\"iupac_name\":\"Oxidine\",\"inchikey\":\"XLYOFNOQVPJJNP-UHFFFAOYSA-N\",\"smiles\":\"O\",\"mw\":18.02,\"comment\":\"You can spill it.\",\"__v\":0}\n"
     ]
    }
   ],
   "source": [
    "# Data deletion.\n",
    "\n",
    "# Use this command to delete data that are already created by specifying the\n",
    "# TID of the data. Either the compound or assay data must be specified when\n",
    "# deleting the data. In the future, data deletion will be cooperated with user\n",
    "# authentication so that only data can only be deleted by users who created\n",
    "# them.\n",
    "\n",
    "! tip-cli delete --tid 1 --query type:compound  # Deleting compound with TID 1."
   ]
  },
  {
   "cell_type": "code",
   "execution_count": null,
   "metadata": {},
   "outputs": [],
   "source": []
  }
 ],
 "metadata": {
  "kernelspec": {
   "display_name": "Python 3",
   "language": "python",
   "name": "python3"
  },
  "language_info": {
   "codemirror_mode": {
    "name": "ipython",
    "version": 3
   },
   "file_extension": ".py",
   "mimetype": "text/x-python",
   "name": "python",
   "nbconvert_exporter": "python",
   "pygments_lexer": "ipython3",
   "version": "3.6.10"
  }
 },
 "nbformat": 4,
 "nbformat_minor": 4
}
